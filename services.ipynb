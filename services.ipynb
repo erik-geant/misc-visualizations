{
 "cells": [
  {
   "cell_type": "raw",
   "id": "049502cd-9fff-4314-88bc-eeebcf4d9c70",
   "metadata": {},
   "source": [
    "cf. https://medium.com/@vidyaviz/building-a-sankey-plot-in-python-to-visualise-a-dataset-where-an-entity-has-multiple-repeating-4b7a7841f050"
   ]
  },
  {
   "cell_type": "code",
   "execution_count": 2,
   "id": "789b903c-05ff-4fd1-a0ed-0f69437f6e6b",
   "metadata": {},
   "outputs": [],
   "source": [
    "import pandas as pd\n",
    "import numpy as np\n",
    "import plotly.graph_objs as go\n",
    "from plotly.offline import download_plotlyjs, init_notebook_mode, plot, iplot"
   ]
  },
  {
   "cell_type": "code",
   "execution_count": 3,
   "id": "6aa6cfb0-6098-474f-b048-df0e66b90d6b",
   "metadata": {
    "scrolled": true
   },
   "outputs": [
    {
     "data": {
      "text/html": [
       "        <script type=\"text/javascript\">\n",
       "        window.PlotlyConfig = {MathJaxConfig: 'local'};\n",
       "        if (window.MathJax && window.MathJax.Hub && window.MathJax.Hub.Config) {window.MathJax.Hub.Config({SVG: {font: \"STIX-Web\"}});}\n",
       "        </script>\n",
       "        <script type=\"module\">import \"https://cdn.plot.ly/plotly-3.0.0.min\"</script>\n",
       "        "
      ]
     },
     "metadata": {},
     "output_type": "display_data"
    }
   ],
   "source": [
    "init_notebook_mode(connected=True)"
   ]
  },
  {
   "cell_type": "code",
   "execution_count": 4,
   "id": "50e0dbf8-696a-4f27-8303-b35c8d58cc64",
   "metadata": {},
   "outputs": [],
   "source": [
    "# pair_df = services_24[['nren', 'service_name']].drop_duplicates()\n",
    "# pairs_list = list(pair_df.itertuples(index=False, name=None))"
   ]
  },
  {
   "cell_type": "code",
   "execution_count": 5,
   "id": "a0bb34c9-4c9f-4eec-881d-4dba1ea88f3f",
   "metadata": {},
   "outputs": [],
   "source": [
    "def create_sankey(service_matrix):\n",
    "\n",
    "    label_list = list(pd.concat(\n",
    "        [service_matrix[\"nren\"], service_matrix[\"service_name\"]]\n",
    "    ).unique())\n",
    "    \n",
    "    # Create index mappings\n",
    "    label_to_index = {label: i for i, label in enumerate(label_list)}\n",
    "    \n",
    "    nren_name_indexes = service_matrix['nren'].map(label_to_index).tolist()\n",
    "    service_name_indexes = service_matrix['service_name'].map(label_to_index).tolist()\n",
    "    values = [1] * len(service_matrix)\n",
    "\n",
    "    return go.Figure(go.Sankey(\n",
    "        node=dict(\n",
    "            pad=15,\n",
    "            thickness=20,\n",
    "            line=dict(color=\"black\", width=0.5),\n",
    "            label=label_list\n",
    "        ),\n",
    "        link=dict(\n",
    "            source=nren_name_indexes,     # Indexes of nren name labels\n",
    "            target=service_name_indexes,  # Indexes of service name labels\n",
    "            value=values                  # Flow values\n",
    "        )\n",
    "    ))"
   ]
  },
  {
   "cell_type": "code",
   "execution_count": 14,
   "id": "05262dea-d3ae-4738-8e2f-2c5494fffd51",
   "metadata": {},
   "outputs": [],
   "source": [
    "YEAR=2024\n",
    "full_service_matrix = pd.read_excel('compendium.xlsx', sheet_name='Services')\n",
    "year_service_matrix = full_service_matrix[full_service_matrix['year'] == YEAR]"
   ]
  },
  {
   "cell_type": "code",
   "execution_count": 15,
   "id": "3235dfcd-b12c-4232-a7e2-e72419f4d1a4",
   "metadata": {},
   "outputs": [
    {
     "data": {
      "text/html": [
       "\n",
       "        <iframe\n",
       "            width=\"100%\"\n",
       "            height=\"650\"\n",
       "            src=\"http://127.0.0.1:8050/\"\n",
       "            frameborder=\"0\"\n",
       "            allowfullscreen\n",
       "            \n",
       "        ></iframe>\n",
       "        "
      ],
      "text/plain": [
       "<IPython.lib.display.IFrame at 0x113a84980>"
      ]
     },
     "metadata": {},
     "output_type": "display_data"
    }
   ],
   "source": [
    "import dash\n",
    "from jupyter_dash import JupyterDash\n",
    "\n",
    "app = dash.Dash()\n",
    "\n",
    "app.layout = dash.html.Div([\n",
    "    dash.html.H2('service matrix'),\n",
    "\n",
    "    dash.dcc.Dropdown(\n",
    "        id='nren-dropdown',\n",
    "        options=[\n",
    "            {'label': n, 'value': n} for n in year_service_matrix['nren'].unique()\n",
    "        ],\n",
    "        placeholder='select nren filters ...',\n",
    "        multi=True,\n",
    "    ),\n",
    "\n",
    "    dash.dcc.Dropdown(\n",
    "        id='service-dropdown',\n",
    "        options=[\n",
    "            {'label': n, 'value': n} for n in year_service_matrix['service_name'].unique()\n",
    "        ],\n",
    "        placeholder='select service name filters ...',\n",
    "        multi=True,\n",
    "    ),\n",
    "\n",
    "    dash.dcc.Graph(id='service-matrix-sankey'),\n",
    "])\n",
    "\n",
    "@app.callback(\n",
    "    dash.Output('service-matrix-sankey', 'figure'),\n",
    "    [\n",
    "        dash.Input('nren-dropdown', 'value'),\n",
    "        dash.Input('service-dropdown', 'value'),\n",
    "    ]\n",
    ")\n",
    "def update_sankey(selected_nren, selected_service):\n",
    "    _sm_df = year_service_matrix\n",
    "    if selected_nren:\n",
    "        _sm_df = _sm_df[_sm_df['nren'] == selected_nren]\n",
    "    if selected_service:\n",
    "        _sm_df = _sm_df[_sm_df['service_name'] == selected_service]\n",
    "    return create_sankey(_sm_df)\n",
    "\n",
    "app.run_server(mode='inline')"
   ]
  }
 ],
 "metadata": {
  "kernelspec": {
   "display_name": "Python 3 (ipykernel)",
   "language": "python",
   "name": "python3"
  },
  "language_info": {
   "codemirror_mode": {
    "name": "ipython",
    "version": 3
   },
   "file_extension": ".py",
   "mimetype": "text/x-python",
   "name": "python",
   "nbconvert_exporter": "python",
   "pygments_lexer": "ipython3",
   "version": "3.12.8"
  }
 },
 "nbformat": 4,
 "nbformat_minor": 5
}
